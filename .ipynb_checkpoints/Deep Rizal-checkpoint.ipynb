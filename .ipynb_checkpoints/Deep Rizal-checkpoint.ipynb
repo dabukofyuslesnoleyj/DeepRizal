{
 "cells": [
  {
   "cell_type": "markdown",
   "metadata": {},
   "source": [
    "# Deep Rizal\n",
    "    An AI that attempts to replicate how Dr. Jose Rizal writes"
   ]
  },
  {
   "cell_type": "markdown",
   "metadata": {},
   "source": [
    "## Step 1: import dependencies\n",
    "    import numpy and keras(2.1.6)"
   ]
  },
  {
   "cell_type": "code",
   "execution_count": 1,
   "metadata": {},
   "outputs": [
    {
     "name": "stderr",
     "output_type": "stream",
     "text": [
      "Using TensorFlow backend.\n"
     ]
    }
   ],
   "source": [
    "\n",
    "import numpy\n",
    "from keras.models import Sequential\n",
    "from keras.layers import Dense\n",
    "from keras.layers import Dropout\n",
    "from keras.layers import LSTM\n",
    "from keras.callbacks import ModelCheckpoint\n",
    "from keras.utils import np_utils"
   ]
  },
  {
   "cell_type": "code",
   "execution_count": 2,
   "metadata": {
    "collapsed": true
   },
   "outputs": [],
   "source": [
    "# load ascii text and covert to lowercase\n",
    "filename = \"joseRizal.cleaned\"\n",
    "raw_text = open(filename).read()\n",
    "raw_text = raw_text.lower()"
   ]
  },
  {
   "cell_type": "code",
   "execution_count": 3,
   "metadata": {
    "collapsed": true
   },
   "outputs": [],
   "source": [
    "# create mapping of unique chars to integers\n",
    "chars = sorted(list(set(raw_text)))\n",
    "char_to_int = dict((c, i) for i, c in enumerate(chars))"
   ]
  },
  {
   "cell_type": "code",
   "execution_count": 4,
   "metadata": {},
   "outputs": [
    {
     "name": "stdout",
     "output_type": "stream",
     "text": [
      "Total Characters:  514749\n",
      "Total Vocab:  52\n"
     ]
    }
   ],
   "source": [
    "n_chars = len(raw_text)\n",
    "n_vocab = len(chars)\n",
    "print (\"Total Characters: \", n_chars)\n",
    "print (\"Total Vocab: \", n_vocab)"
   ]
  },
  {
   "cell_type": "code",
   "execution_count": 5,
   "metadata": {},
   "outputs": [
    {
     "name": "stdout",
     "output_type": "stream",
     "text": [
      "Total Patterns:  514649\n"
     ]
    }
   ],
   "source": [
    "# prepare the dataset of input to output pairs encoded as integers\n",
    "seq_length = 100\n",
    "dataX = []\n",
    "dataY = []\n",
    "for i in range(0, n_chars - seq_length, 1):\n",
    "    seq_in = raw_text[i:i + seq_length]\n",
    "    seq_out = raw_text[i + seq_length]\n",
    "    dataX.append([char_to_int[char] for char in seq_in])\n",
    "    dataY.append(char_to_int[seq_out])\n",
    "n_patterns = len(dataX)\n",
    "print (\"Total Patterns: \", n_patterns)"
   ]
  },
  {
   "cell_type": "code",
   "execution_count": 6,
   "metadata": {
    "collapsed": true
   },
   "outputs": [],
   "source": [
    "# reshape X to be [samples, time steps, features]\n",
    "X = numpy.reshape(dataX, (n_patterns, seq_length, 1))\n",
    "# normalize\n",
    "X = X / float(n_vocab)\n",
    "# one hot encode the output variable\n",
    "y = np_utils.to_categorical(dataY)"
   ]
  },
  {
   "cell_type": "code",
   "execution_count": 7,
   "metadata": {},
   "outputs": [],
   "source": [
    "# define the LSTM model\n",
    "model = Sequential()\n",
    "model.add(LSTM(256, input_shape=(X.shape[1], X.shape[2])))\n",
    "model.add(Dropout(0.2))\n",
    "model.add(Dense(y.shape[1], activation='softmax'))\n",
    "model.compile(loss='categorical_crossentropy', optimizer='adam')"
   ]
  },
  {
   "cell_type": "code",
   "execution_count": 8,
   "metadata": {
    "collapsed": true
   },
   "outputs": [],
   "source": [
    "# define the checkpoint\n",
    "filepath=\"weights-improvement-{epoch:02d}-{loss:.4f}.hdf5\"\n",
    "checkpoint = ModelCheckpoint(filepath, monitor='loss', verbose=1, save_best_only=True, mode='min')\n",
    "callbacks_list = [checkpoint]"
   ]
  },
  {
   "cell_type": "code",
   "execution_count": 9,
   "metadata": {
    "collapsed": true
   },
   "outputs": [
    {
     "name": "stdout",
     "output_type": "stream",
     "text": [
      "Epoch 1/20\n",
      "514649/514649 [==============================] - 846s 2ms/step - loss: 2.4645\n",
      "\n",
      "Epoch 00001: loss improved from inf to 2.46450, saving model to weights-improvement-01-2.4645.hdf5\n",
      "Epoch 2/20\n",
      "514649/514649 [==============================] - 850s 2ms/step - loss: 2.2001\n",
      "\n",
      "Epoch 00002: loss improved from 2.46450 to 2.20012, saving model to weights-improvement-02-2.2001.hdf5\n",
      "Epoch 3/20\n",
      "514649/514649 [==============================] - 854s 2ms/step - loss: 2.0769\n",
      "\n",
      "Epoch 00003: loss improved from 2.20012 to 2.07693, saving model to weights-improvement-03-2.0769.hdf5\n",
      "Epoch 4/20\n",
      "514649/514649 [==============================] - 852s 2ms/step - loss: 1.9899\n",
      "\n",
      "Epoch 00004: loss improved from 2.07693 to 1.98989, saving model to weights-improvement-04-1.9899.hdf5\n",
      "Epoch 5/20\n",
      "514649/514649 [==============================] - 856s 2ms/step - loss: 1.9234\n",
      "\n",
      "Epoch 00005: loss improved from 1.98989 to 1.92338, saving model to weights-improvement-05-1.9234.hdf5\n",
      "Epoch 6/20\n",
      "514649/514649 [==============================] - 852s 2ms/step - loss: 1.8712\n",
      "\n",
      "Epoch 00006: loss improved from 1.92338 to 1.87115, saving model to weights-improvement-06-1.8712.hdf5\n",
      "Epoch 7/20\n",
      "514649/514649 [==============================] - 854s 2ms/step - loss: 1.8279\n",
      "\n",
      "Epoch 00007: loss improved from 1.87115 to 1.82793, saving model to weights-improvement-07-1.8279.hdf5\n",
      "Epoch 8/20\n",
      "514649/514649 [==============================] - 855s 2ms/step - loss: 1.7927\n",
      "\n",
      "Epoch 00008: loss improved from 1.82793 to 1.79268, saving model to weights-improvement-08-1.7927.hdf5\n",
      "Epoch 9/20\n",
      "514649/514649 [==============================] - 856s 2ms/step - loss: 1.7643\n",
      "\n",
      "Epoch 00009: loss improved from 1.79268 to 1.76430, saving model to weights-improvement-09-1.7643.hdf5\n",
      "Epoch 10/20\n",
      "514649/514649 [==============================] - 852s 2ms/step - loss: 1.7390\n",
      "\n",
      "Epoch 00010: loss improved from 1.76430 to 1.73897, saving model to weights-improvement-10-1.7390.hdf5\n",
      "Epoch 11/20\n",
      "514649/514649 [==============================] - 850s 2ms/step - loss: 1.7168\n",
      "\n",
      "Epoch 00011: loss improved from 1.73897 to 1.71682, saving model to weights-improvement-11-1.7168.hdf5\n",
      "Epoch 12/20\n",
      "514649/514649 [==============================] - 848s 2ms/step - loss: 1.7070 6s - loss:  \n",
      "\n",
      "Epoch 00012: loss improved from 1.71682 to 1.70704, saving model to weights-improvement-12-1.7070.hdf5\n",
      "Epoch 13/20\n",
      "514649/514649 [==============================] - 850s 2ms/step - loss: 1.6841\n",
      "\n",
      "Epoch 00013: loss improved from 1.70704 to 1.68410, saving model to weights-improvement-13-1.6841.hdf5\n",
      "Epoch 14/20\n",
      "514649/514649 [==============================] - 847s 2ms/step - loss: 1.6668\n",
      "\n",
      "Epoch 00014: loss improved from 1.68410 to 1.66676, saving model to weights-improvement-14-1.6668.hdf5\n",
      "Epoch 15/20\n",
      "514649/514649 [==============================] - 844s 2ms/step - loss: 1.6531\n",
      "\n",
      "Epoch 00015: loss improved from 1.66676 to 1.65315, saving model to weights-improvement-15-1.6531.hdf5\n",
      "Epoch 16/20\n",
      "514649/514649 [==============================] - 841s 2ms/step - loss: 1.6410\n",
      "\n",
      "Epoch 00016: loss improved from 1.65315 to 1.64099, saving model to weights-improvement-16-1.6410.hdf5\n",
      "Epoch 17/20\n",
      "514649/514649 [==============================] - 851s 2ms/step - loss: 1.6281\n",
      "\n",
      "Epoch 00017: loss improved from 1.64099 to 1.62810, saving model to weights-improvement-17-1.6281.hdf5\n",
      "Epoch 18/20\n",
      "514649/514649 [==============================] - 853s 2ms/step - loss: 1.6173\n",
      "\n",
      "Epoch 00018: loss improved from 1.62810 to 1.61726, saving model to weights-improvement-18-1.6173.hdf5\n",
      "Epoch 19/20\n",
      "514649/514649 [==============================] - 857s 2ms/step - loss: 1.6074\n",
      "\n",
      "Epoch 00019: loss improved from 1.61726 to 1.60739, saving model to weights-improvement-19-1.6074.hdf5\n",
      "Epoch 20/20\n",
      "514649/514649 [==============================] - 867s 2ms/step - loss: 1.5988 2s \n",
      "\n",
      "Epoch 00020: loss improved from 1.60739 to 1.59878, saving model to weights-improvement-20-1.5988.hdf5\n"
     ]
    },
    {
     "data": {
      "text/plain": [
       "<keras.callbacks.History at 0x1cadd0e6cc0>"
      ]
     },
     "execution_count": 9,
     "metadata": {},
     "output_type": "execute_result"
    }
   ],
   "source": [
    "model.fit(X, y, epochs=20, batch_size=128, callbacks=callbacks_list)"
   ]
  },
  {
   "cell_type": "code",
   "execution_count": 72,
   "metadata": {
    "collapsed": true
   },
   "outputs": [],
   "source": [
    "# load the network weights\n",
    "filename = \"weights-improvement-20-1.5988.hdf5\"\n",
    "model.load_weights(filename)\n",
    "model.compile(loss='categorical_crossentropy', optimizer='adam')\n",
    "\n",
    "\n",
    "int_to_char = dict((i, c) for i, c in enumerate(chars))"
   ]
  },
  {
   "cell_type": "code",
   "execution_count": 73,
   "metadata": {
    "collapsed": true
   },
   "outputs": [
    {
     "name": "stdout",
     "output_type": "stream",
     "text": [
      "Seed:\n",
      " \"  umapag si rizal sa iloilo , namili sa lungsod , at dumalaw sa molo .\n",
      "sa simbahan ng molo , sinabi ni  \" \n"
     ]
    }
   ],
   "source": [
    "# pick a random seed\n",
    "start = numpy.random.randint(0, len(dataX)-1)\n",
    "pattern = dataX[start]\n",
    "print (\"Seed:\")\n",
    "print (\" \\\" \", ''.join([int_to_char[value] for value in pattern]), \" \\\" \")"
   ]
  },
  {
   "cell_type": "code",
   "execution_count": 77,
   "metadata": {},
   "outputs": [
    {
     "name": "stdout",
     "output_type": "stream",
     "text": [
      "may maramang paggahanda ng maa naiiaaba .\n",
      "naggagania ng magaaaasal na sa pag-aaral na banagbang magaabasalang pagaabasa ng magaaang pagaabigal ng maaas na bayan .\n",
      "nagaabasa ng maganaang pagaabasa ng m\n",
      "Done.\n"
     ]
    }
   ],
   "source": [
    "import sys\n",
    "\n",
    "# generate characters\n",
    "for i in range(200):\n",
    "    x = numpy.reshape(pattern, (1, len(pattern), 1))\n",
    "    x = x / float(n_vocab)\n",
    "    prediction = model.predict(x, verbose=0.8)\n",
    "    index = numpy.argmax(prediction)\n",
    "    result = int_to_char[index]\n",
    "    seq_in = [int_to_char[value] for value in pattern]\n",
    "    sys.stdout.write(result)\n",
    "    pattern.append(index)\n",
    "    pattern = pattern[1:len(pattern)]\n",
    "print (\"\\nDone.\")"
   ]
  },
  {
   "cell_type": "markdown",
   "metadata": {},
   "source": []
  }
 ],
 "metadata": {
  "kernelspec": {
   "display_name": "Python [conda env:py35]",
   "language": "python",
   "name": "conda-env-py35-py"
  },
  "language_info": {
   "codemirror_mode": {
    "name": "ipython",
    "version": 3
   },
   "file_extension": ".py",
   "mimetype": "text/x-python",
   "name": "python",
   "nbconvert_exporter": "python",
   "pygments_lexer": "ipython3",
   "version": "3.5.4"
  }
 },
 "nbformat": 4,
 "nbformat_minor": 2
}
